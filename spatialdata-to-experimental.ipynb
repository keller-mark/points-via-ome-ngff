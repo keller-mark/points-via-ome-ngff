{
 "cells": [
  {
   "cell_type": "code",
   "execution_count": 49,
   "id": "d77c693b-5043-4e1d-bb39-ef6172cc6a18",
   "metadata": {},
   "outputs": [
    {
     "name": "stderr",
     "output_type": "stream",
     "text": [
      "/Users/mkeller/software/miniconda3/envs/point-cloud-env/lib/python3.11/site-packages/geopandas/_compat.py:124: UserWarning: The Shapely GEOS version (3.11.1-CAPI-1.17.1) is incompatible with the GEOS version PyGEOS was compiled with (3.10.4-CAPI-1.16.2). Conversions between both will be slow.\n",
      "  warnings.warn(\n",
      "/Users/mkeller/software/miniconda3/envs/point-cloud-env/lib/python3.11/site-packages/spatialdata/__init__.py:9: UserWarning: Geopandas was set to use PyGEOS, changing to shapely 2.0 with:\n",
      "\n",
      "\tgeopandas.options.use_pygeos = True\n",
      "\n",
      "If you intended to use PyGEOS, set the option to False.\n",
      "  _check_geopandas_using_shapely()\n"
     ]
    }
   ],
   "source": [
    "import zarr\n",
    "import numpy as np\n",
    "import spatialdata as sd"
   ]
  },
  {
   "cell_type": "code",
   "execution_count": 48,
   "id": "b945d5b6-cab6-4916-b1ee-de789a57506d",
   "metadata": {},
   "outputs": [],
   "source": [
    "# Download merfish spatialdata example from https://spatialdata.scverse.org/en/latest/tutorials/notebooks/notebooks/examples/technology_merfish.html"
   ]
  },
  {
   "cell_type": "code",
   "execution_count": 108,
   "id": "0b6fbc11-e3ff-4369-a455-40c9e4afa0a3",
   "metadata": {},
   "outputs": [],
   "source": [
    "merfish_zarr_path = \"./data/data.zarr\""
   ]
  },
  {
   "cell_type": "code",
   "execution_count": 109,
   "id": "d1b3db04-4feb-4bd4-9574-f02216d9960a",
   "metadata": {},
   "outputs": [
    {
     "data": {
      "text/plain": [
       "SpatialData object with:\n",
       "├── Images\n",
       "│     └── 'rasterized': SpatialImage[cyx] (1, 522, 575)\n",
       "├── Points\n",
       "│     └── 'single_molecule': DataFrame with shape: (3714642, 3) (2D points)\n",
       "├── Shapes\n",
       "│     ├── 'anatomical': GeoDataFrame shape: (6, 1) (2D shapes)\n",
       "│     └── 'cells': GeoDataFrame shape: (2399, 2) (2D shapes)\n",
       "└── Table\n",
       "      └── AnnData object with n_obs × n_vars = 2399 × 268\n",
       "    obs: 'cell_id', 'region'\n",
       "    uns: 'spatialdata_attrs': AnnData (2399, 268)\n",
       "with coordinate systems:\n",
       "▸ 'global', with elements:\n",
       "        rasterized (Images), single_molecule (Points), anatomical (Shapes), cells (Shapes)"
      ]
     },
     "execution_count": 109,
     "metadata": {},
     "output_type": "execute_result"
    }
   ],
   "source": [
    "merfish_sdata = sd.read_zarr(merfish_zarr_path)\n",
    "merfish_sdata"
   ]
  },
  {
   "cell_type": "code",
   "execution_count": 110,
   "id": "ab33f7ba-eee2-44b3-9a41-45a7ba026f9d",
   "metadata": {},
   "outputs": [],
   "source": [
    "df = merfish_sdata.points['single_molecule']"
   ]
  },
  {
   "cell_type": "code",
   "execution_count": 111,
   "id": "41217329-1732-45d7-8820-7c9804a5b648",
   "metadata": {},
   "outputs": [],
   "source": [
    "x_min = df['x'].min().compute()\n",
    "x_max = df['x'].max().compute()\n",
    "\n",
    "y_min = df['y'].min().compute()\n",
    "y_max = df['y'].max().compute()"
   ]
  },
  {
   "cell_type": "code",
   "execution_count": 112,
   "id": "354117ed-6b3f-4f6f-b525-03aac1f9dc8a",
   "metadata": {},
   "outputs": [
    {
     "data": {
      "text/plain": [
       "{'outside_VISp': 0,\n",
       " 'VISp_wm': 1,\n",
       " 'VISp_VI': 2,\n",
       " 'VISp_V': 3,\n",
       " 'VISp': 4,\n",
       " 'VISp_IV': 5,\n",
       " 'VISp_II/III': 6,\n",
       " 'VISp_I': 7}"
      ]
     },
     "execution_count": 112,
     "metadata": {},
     "output_type": "execute_result"
    }
   ],
   "source": [
    "c_cats = df['cell_type'].unique().compute().tolist()\n",
    "c_cat_to_index = dict([(c_cat, c_cats.index(c_cat)) for c_cat in c_cats])\n",
    "c_cat_to_index"
   ]
  },
  {
   "cell_type": "code",
   "execution_count": 113,
   "id": "e72480c1-5905-4278-96b6-2d282673ca81",
   "metadata": {},
   "outputs": [
    {
     "data": {
      "text/plain": [
       "(1154.3634, 3171.979, 4548.483, 6565.997)"
      ]
     },
     "execution_count": 113,
     "metadata": {},
     "output_type": "execute_result"
    }
   ],
   "source": [
    "x_min, x_max, y_min, y_max"
   ]
  },
  {
   "cell_type": "code",
   "execution_count": 114,
   "id": "972cad13-64d0-4aab-acec-ecaeec9d9851",
   "metadata": {},
   "outputs": [
    {
     "data": {
      "text/plain": [
       "(8072.0, 8072.0)"
      ]
     },
     "execution_count": 114,
     "metadata": {},
     "output_type": "execute_result"
    }
   ],
   "source": [
    "scale_factor = 4\n",
    "\n",
    "pixel_grid_shape = (np.ceil(x_max - x_min) * scale_factor, np.ceil(y_max - y_min) * scale_factor)\n",
    "pixel_grid_shape"
   ]
  },
  {
   "cell_type": "code",
   "execution_count": 115,
   "id": "009f292e-c62b-4c0e-b0e4-c957b8d80ac9",
   "metadata": {},
   "outputs": [],
   "source": [
    "z = zarr.zeros(pixel_grid_shape)\n",
    "chunk_shape = z.chunks"
   ]
  },
  {
   "cell_type": "code",
   "execution_count": 116,
   "id": "f05759b5-50bd-432c-8aea-3422bf85f405",
   "metadata": {},
   "outputs": [],
   "source": [
    "z_x = zarr.zeros(pixel_grid_shape)\n",
    "z_y = zarr.zeros(pixel_grid_shape)\n",
    "z_c = zarr.zeros(pixel_grid_shape)"
   ]
  },
  {
   "cell_type": "code",
   "execution_count": 118,
   "id": "99447c18-7a7d-411f-9b90-a915589f1eb1",
   "metadata": {},
   "outputs": [],
   "source": [
    "df['x'] = ((df['x'] - x_min) / (x_max - x_min)) * pixel_grid_shape[0]\n",
    "df['y'] = ((df['y'] - y_min) / (y_max - y_min)) * pixel_grid_shape[1]"
   ]
  },
  {
   "cell_type": "code",
   "execution_count": 119,
   "id": "c17e62d8-9473-4b9d-8a2b-65a7f3aef958",
   "metadata": {},
   "outputs": [
    {
     "data": {
      "text/html": [
       "<div>\n",
       "<style scoped>\n",
       "    .dataframe tbody tr th:only-of-type {\n",
       "        vertical-align: middle;\n",
       "    }\n",
       "\n",
       "    .dataframe tbody tr th {\n",
       "        vertical-align: top;\n",
       "    }\n",
       "\n",
       "    .dataframe thead th {\n",
       "        text-align: right;\n",
       "    }\n",
       "</style>\n",
       "<table border=\"1\" class=\"dataframe\">\n",
       "  <thead>\n",
       "    <tr style=\"text-align: right;\">\n",
       "      <th></th>\n",
       "      <th>x</th>\n",
       "      <th>y</th>\n",
       "      <th>cell_type</th>\n",
       "    </tr>\n",
       "  </thead>\n",
       "  <tbody>\n",
       "    <tr>\n",
       "      <th>0</th>\n",
       "      <td>497.376984</td>\n",
       "      <td>5890.054688</td>\n",
       "      <td>outside_VISp</td>\n",
       "    </tr>\n",
       "    <tr>\n",
       "      <th>1</th>\n",
       "      <td>690.559265</td>\n",
       "      <td>5903.028320</td>\n",
       "      <td>outside_VISp</td>\n",
       "    </tr>\n",
       "    <tr>\n",
       "      <th>2</th>\n",
       "      <td>550.758728</td>\n",
       "      <td>6044.871582</td>\n",
       "      <td>outside_VISp</td>\n",
       "    </tr>\n",
       "    <tr>\n",
       "      <th>3</th>\n",
       "      <td>586.203003</td>\n",
       "      <td>6198.705078</td>\n",
       "      <td>outside_VISp</td>\n",
       "    </tr>\n",
       "    <tr>\n",
       "      <th>4</th>\n",
       "      <td>312.246002</td>\n",
       "      <td>6219.102539</td>\n",
       "      <td>outside_VISp</td>\n",
       "    </tr>\n",
       "  </tbody>\n",
       "</table>\n",
       "</div>"
      ],
      "text/plain": [
       "            x            y     cell_type\n",
       "0  497.376984  5890.054688  outside_VISp\n",
       "1  690.559265  5903.028320  outside_VISp\n",
       "2  550.758728  6044.871582  outside_VISp\n",
       "3  586.203003  6198.705078  outside_VISp\n",
       "4  312.246002  6219.102539  outside_VISp"
      ]
     },
     "execution_count": 119,
     "metadata": {},
     "output_type": "execute_result"
    }
   ],
   "source": [
    "df.head()"
   ]
  },
  {
   "cell_type": "code",
   "execution_count": 124,
   "id": "f7c216b9-41d0-4890-aa2a-7cc487553de6",
   "metadata": {},
   "outputs": [
    {
     "data": {
      "text/plain": [
       "array([], dtype=float32)"
      ]
     },
     "execution_count": 124,
     "metadata": {},
     "output_type": "execute_result"
    }
   ],
   "source": [
    "chunk_df['x'].values.compute()"
   ]
  },
  {
   "cell_type": "code",
   "execution_count": 127,
   "id": "1e1e5351-5d42-44aa-8738-c9d20a8bcb63",
   "metadata": {},
   "outputs": [
    {
     "name": "stdout",
     "output_type": "stream",
     "text": [
      "0 0\n",
      "0\n",
      "0 1\n",
      "0\n",
      "0 2\n",
      "0\n",
      "0 3\n",
      "0\n",
      "0 4\n",
      "0\n",
      "0 5\n",
      "0\n",
      "0 6\n",
      "0\n",
      "0 7\n",
      "0\n",
      "0 8\n",
      "0\n",
      "0 9\n",
      "0\n",
      "0 10\n",
      "0\n",
      "0 11\n",
      "3079\n",
      "0 12\n",
      "26279\n",
      "0 13\n",
      "8519\n",
      "0 14\n",
      "0\n",
      "0 15\n",
      "0\n",
      "1 0\n",
      "0\n",
      "1 1\n",
      "0\n",
      "1 2\n",
      "0\n",
      "1 3\n",
      "0\n",
      "1 4\n",
      "0\n",
      "1 5\n",
      "0\n",
      "1 6\n",
      "0\n",
      "1 7\n",
      "0\n",
      "1 8\n",
      "473\n",
      "1 9\n",
      "2492\n",
      "1 10\n",
      "11391\n",
      "1 11\n",
      "14189\n",
      "1 12\n",
      "29805\n",
      "1 13\n",
      "6249\n",
      "1 14\n",
      "0\n",
      "1 15\n",
      "0\n",
      "2 0\n",
      "0\n",
      "2 1\n",
      "0\n",
      "2 2\n",
      "0\n",
      "2 3\n",
      "0\n",
      "2 4\n",
      "0\n",
      "2 5\n",
      "0\n",
      "2 6\n",
      "0\n",
      "2 7\n",
      "0\n",
      "2 8\n",
      "840\n",
      "2 9\n",
      "1122\n",
      "2 10\n",
      "7882\n",
      "2 11\n",
      "6980\n",
      "2 12\n",
      "11460\n",
      "2 13\n",
      "3668\n",
      "2 14\n",
      "0\n",
      "2 15\n",
      "0\n",
      "3 0\n",
      "0\n",
      "3 1\n",
      "0\n",
      "3 2\n",
      "0\n",
      "3 3\n",
      "0\n",
      "3 4\n",
      "0\n",
      "3 5\n",
      "0\n",
      "3 6\n",
      "101\n",
      "3 7\n",
      "509\n",
      "3 8\n",
      "742\n",
      "3 9\n",
      "876\n",
      "3 10\n",
      "2085\n",
      "3 11\n",
      "10009\n",
      "3 12\n",
      "21876\n",
      "3 13\n",
      "19922\n",
      "3 14\n",
      "20644\n",
      "3 15\n",
      "456\n",
      "4 0\n",
      "0\n",
      "4 1\n",
      "0\n",
      "4 2\n",
      "0\n",
      "4 3\n",
      "114\n",
      "4 4\n",
      "516\n",
      "4 5\n",
      "92\n",
      "4 6\n",
      "290\n",
      "4 7\n",
      "1192\n",
      "4 8\n",
      "691\n",
      "4 9\n",
      "1363\n",
      "4 10\n",
      "16743\n",
      "4 11\n",
      "33726\n",
      "4 12\n",
      "36559\n",
      "4 13\n",
      "26143\n",
      "4 14\n",
      "22091\n",
      "4 15\n",
      "727\n",
      "5 0\n",
      "0\n",
      "5 1\n",
      "0\n",
      "5 2\n",
      "0\n",
      "5 3\n",
      "19932\n",
      "5 4\n",
      "30599\n",
      "5 5\n",
      "8085\n",
      "5 6\n",
      "2785\n",
      "5 7\n",
      "2152\n",
      "5 8\n",
      "2377\n",
      "5 9\n",
      "9064\n",
      "5 10\n",
      "34193\n",
      "5 11\n",
      "35685\n",
      "5 12\n",
      "34510\n",
      "5 13\n",
      "25718\n",
      "5 14\n",
      "22749\n",
      "5 15\n",
      "40897\n",
      "6 0\n",
      "0\n",
      "6 1\n",
      "861\n",
      "6 2\n",
      "8280\n",
      "6 3\n",
      "16016\n",
      "6 4\n",
      "29332\n",
      "6 5\n",
      "10912\n",
      "6 6\n",
      "6067\n",
      "6 7\n",
      "19883\n",
      "6 8\n",
      "23169\n",
      "6 9\n",
      "34180\n",
      "6 10\n",
      "32836\n",
      "6 11\n",
      "25627\n",
      "6 12\n",
      "28946\n",
      "6 13\n",
      "28514\n",
      "6 14\n",
      "20821\n",
      "6 15\n",
      "25526\n",
      "7 0\n",
      "0\n",
      "7 1\n",
      "8771\n",
      "7 2\n",
      "27864\n",
      "7 3\n",
      "6922\n",
      "7 4\n",
      "8899\n",
      "7 5\n",
      "20626\n",
      "7 6\n",
      "38546\n",
      "7 7\n",
      "36304\n",
      "7 8\n",
      "39210\n",
      "7 9\n",
      "33418\n",
      "7 10\n",
      "31336\n",
      "7 11\n"
     ]
    },
    {
     "ename": "KeyboardInterrupt",
     "evalue": "",
     "output_type": "error",
     "traceback": [
      "\u001b[0;31m---------------------------------------------------------------------------\u001b[0m",
      "\u001b[0;31mKeyboardInterrupt\u001b[0m                         Traceback (most recent call last)",
      "Cell \u001b[0;32mIn[127], line 16\u001b[0m\n\u001b[1;32m     12\u001b[0m chunk_y_vals \u001b[38;5;241m=\u001b[39m chunk_df[\u001b[38;5;124m'\u001b[39m\u001b[38;5;124my\u001b[39m\u001b[38;5;124m'\u001b[39m]\u001b[38;5;241m.\u001b[39mvalues\u001b[38;5;241m.\u001b[39mcompute()\n\u001b[1;32m     13\u001b[0m \u001b[38;5;66;03m#chunk_c_vals = chunk_df['cell_type'].values.astype(str).compute()\u001b[39;00m\n\u001b[0;32m---> 16\u001b[0m \u001b[38;5;28mprint\u001b[39m(\u001b[43mchunk_df\u001b[49m\u001b[38;5;241;43m.\u001b[39;49m\u001b[43mshape\u001b[49m\u001b[43m[\u001b[49m\u001b[38;5;241;43m0\u001b[39;49m\u001b[43m]\u001b[49m\u001b[38;5;241;43m.\u001b[39;49m\u001b[43mcompute\u001b[49m\u001b[43m(\u001b[49m\u001b[43m)\u001b[49m)\n",
      "File \u001b[0;32m~/software/miniconda3/envs/point-cloud-env/lib/python3.11/site-packages/dask/base.py:381\u001b[0m, in \u001b[0;36mDaskMethodsMixin.compute\u001b[0;34m(self, **kwargs)\u001b[0m\n\u001b[1;32m    357\u001b[0m \u001b[38;5;28;01mdef\u001b[39;00m \u001b[38;5;21mcompute\u001b[39m(\u001b[38;5;28mself\u001b[39m, \u001b[38;5;241m*\u001b[39m\u001b[38;5;241m*\u001b[39mkwargs):\n\u001b[1;32m    358\u001b[0m \u001b[38;5;250m    \u001b[39m\u001b[38;5;124;03m\"\"\"Compute this dask collection\u001b[39;00m\n\u001b[1;32m    359\u001b[0m \n\u001b[1;32m    360\u001b[0m \u001b[38;5;124;03m    This turns a lazy Dask collection into its in-memory equivalent.\u001b[39;00m\n\u001b[0;32m   (...)\u001b[0m\n\u001b[1;32m    379\u001b[0m \u001b[38;5;124;03m    dask.compute\u001b[39;00m\n\u001b[1;32m    380\u001b[0m \u001b[38;5;124;03m    \"\"\"\u001b[39;00m\n\u001b[0;32m--> 381\u001b[0m     (result,) \u001b[38;5;241m=\u001b[39m \u001b[43mcompute\u001b[49m\u001b[43m(\u001b[49m\u001b[38;5;28;43mself\u001b[39;49m\u001b[43m,\u001b[49m\u001b[43m \u001b[49m\u001b[43mtraverse\u001b[49m\u001b[38;5;241;43m=\u001b[39;49m\u001b[38;5;28;43;01mFalse\u001b[39;49;00m\u001b[43m,\u001b[49m\u001b[43m \u001b[49m\u001b[38;5;241;43m*\u001b[39;49m\u001b[38;5;241;43m*\u001b[39;49m\u001b[43mkwargs\u001b[49m\u001b[43m)\u001b[49m\n\u001b[1;32m    382\u001b[0m     \u001b[38;5;28;01mreturn\u001b[39;00m result\n",
      "File \u001b[0;32m~/software/miniconda3/envs/point-cloud-env/lib/python3.11/site-packages/dask/base.py:666\u001b[0m, in \u001b[0;36mcompute\u001b[0;34m(traverse, optimize_graph, scheduler, get, *args, **kwargs)\u001b[0m\n\u001b[1;32m    663\u001b[0m     keys\u001b[38;5;241m.\u001b[39mappend(x\u001b[38;5;241m.\u001b[39m__dask_keys__())\n\u001b[1;32m    664\u001b[0m     postcomputes\u001b[38;5;241m.\u001b[39mappend(x\u001b[38;5;241m.\u001b[39m__dask_postcompute__())\n\u001b[0;32m--> 666\u001b[0m results \u001b[38;5;241m=\u001b[39m \u001b[43mschedule\u001b[49m\u001b[43m(\u001b[49m\u001b[43mdsk\u001b[49m\u001b[43m,\u001b[49m\u001b[43m \u001b[49m\u001b[43mkeys\u001b[49m\u001b[43m,\u001b[49m\u001b[43m \u001b[49m\u001b[38;5;241;43m*\u001b[39;49m\u001b[38;5;241;43m*\u001b[39;49m\u001b[43mkwargs\u001b[49m\u001b[43m)\u001b[49m\n\u001b[1;32m    667\u001b[0m \u001b[38;5;28;01mreturn\u001b[39;00m repack([f(r, \u001b[38;5;241m*\u001b[39ma) \u001b[38;5;28;01mfor\u001b[39;00m r, (f, a) \u001b[38;5;129;01min\u001b[39;00m \u001b[38;5;28mzip\u001b[39m(results, postcomputes)])\n",
      "File \u001b[0;32m~/software/miniconda3/envs/point-cloud-env/lib/python3.11/site-packages/dask/threaded.py:89\u001b[0m, in \u001b[0;36mget\u001b[0;34m(dsk, keys, cache, num_workers, pool, **kwargs)\u001b[0m\n\u001b[1;32m     86\u001b[0m     \u001b[38;5;28;01melif\u001b[39;00m \u001b[38;5;28misinstance\u001b[39m(pool, multiprocessing\u001b[38;5;241m.\u001b[39mpool\u001b[38;5;241m.\u001b[39mPool):\n\u001b[1;32m     87\u001b[0m         pool \u001b[38;5;241m=\u001b[39m MultiprocessingPoolExecutor(pool)\n\u001b[0;32m---> 89\u001b[0m results \u001b[38;5;241m=\u001b[39m \u001b[43mget_async\u001b[49m\u001b[43m(\u001b[49m\n\u001b[1;32m     90\u001b[0m \u001b[43m    \u001b[49m\u001b[43mpool\u001b[49m\u001b[38;5;241;43m.\u001b[39;49m\u001b[43msubmit\u001b[49m\u001b[43m,\u001b[49m\n\u001b[1;32m     91\u001b[0m \u001b[43m    \u001b[49m\u001b[43mpool\u001b[49m\u001b[38;5;241;43m.\u001b[39;49m\u001b[43m_max_workers\u001b[49m\u001b[43m,\u001b[49m\n\u001b[1;32m     92\u001b[0m \u001b[43m    \u001b[49m\u001b[43mdsk\u001b[49m\u001b[43m,\u001b[49m\n\u001b[1;32m     93\u001b[0m \u001b[43m    \u001b[49m\u001b[43mkeys\u001b[49m\u001b[43m,\u001b[49m\n\u001b[1;32m     94\u001b[0m \u001b[43m    \u001b[49m\u001b[43mcache\u001b[49m\u001b[38;5;241;43m=\u001b[39;49m\u001b[43mcache\u001b[49m\u001b[43m,\u001b[49m\n\u001b[1;32m     95\u001b[0m \u001b[43m    \u001b[49m\u001b[43mget_id\u001b[49m\u001b[38;5;241;43m=\u001b[39;49m\u001b[43m_thread_get_id\u001b[49m\u001b[43m,\u001b[49m\n\u001b[1;32m     96\u001b[0m \u001b[43m    \u001b[49m\u001b[43mpack_exception\u001b[49m\u001b[38;5;241;43m=\u001b[39;49m\u001b[43mpack_exception\u001b[49m\u001b[43m,\u001b[49m\n\u001b[1;32m     97\u001b[0m \u001b[43m    \u001b[49m\u001b[38;5;241;43m*\u001b[39;49m\u001b[38;5;241;43m*\u001b[39;49m\u001b[43mkwargs\u001b[49m\u001b[43m,\u001b[49m\n\u001b[1;32m     98\u001b[0m \u001b[43m\u001b[49m\u001b[43m)\u001b[49m\n\u001b[1;32m    100\u001b[0m \u001b[38;5;66;03m# Cleanup pools associated to dead threads\u001b[39;00m\n\u001b[1;32m    101\u001b[0m \u001b[38;5;28;01mwith\u001b[39;00m pools_lock:\n",
      "File \u001b[0;32m~/software/miniconda3/envs/point-cloud-env/lib/python3.11/site-packages/dask/local.py:500\u001b[0m, in \u001b[0;36mget_async\u001b[0;34m(submit, num_workers, dsk, result, cache, get_id, rerun_exceptions_locally, pack_exception, raise_exception, callbacks, dumps, loads, chunksize, **kwargs)\u001b[0m\n\u001b[1;32m    498\u001b[0m \u001b[38;5;28;01mwhile\u001b[39;00m state[\u001b[38;5;124m\"\u001b[39m\u001b[38;5;124mwaiting\u001b[39m\u001b[38;5;124m\"\u001b[39m] \u001b[38;5;129;01mor\u001b[39;00m state[\u001b[38;5;124m\"\u001b[39m\u001b[38;5;124mready\u001b[39m\u001b[38;5;124m\"\u001b[39m] \u001b[38;5;129;01mor\u001b[39;00m state[\u001b[38;5;124m\"\u001b[39m\u001b[38;5;124mrunning\u001b[39m\u001b[38;5;124m\"\u001b[39m]:\n\u001b[1;32m    499\u001b[0m     fire_tasks(chunksize)\n\u001b[0;32m--> 500\u001b[0m     \u001b[38;5;28;01mfor\u001b[39;00m key, res_info, failed \u001b[38;5;129;01min\u001b[39;00m \u001b[43mqueue_get\u001b[49m\u001b[43m(\u001b[49m\u001b[43mqueue\u001b[49m\u001b[43m)\u001b[49m\u001b[38;5;241m.\u001b[39mresult():\n\u001b[1;32m    501\u001b[0m         \u001b[38;5;28;01mif\u001b[39;00m failed:\n\u001b[1;32m    502\u001b[0m             exc, tb \u001b[38;5;241m=\u001b[39m loads(res_info)\n",
      "File \u001b[0;32m~/software/miniconda3/envs/point-cloud-env/lib/python3.11/site-packages/dask/local.py:137\u001b[0m, in \u001b[0;36mqueue_get\u001b[0;34m(q)\u001b[0m\n\u001b[1;32m    136\u001b[0m \u001b[38;5;28;01mdef\u001b[39;00m \u001b[38;5;21mqueue_get\u001b[39m(q):\n\u001b[0;32m--> 137\u001b[0m     \u001b[38;5;28;01mreturn\u001b[39;00m \u001b[43mq\u001b[49m\u001b[38;5;241;43m.\u001b[39;49m\u001b[43mget\u001b[49m\u001b[43m(\u001b[49m\u001b[43m)\u001b[49m\n",
      "File \u001b[0;32m~/software/miniconda3/envs/point-cloud-env/lib/python3.11/queue.py:171\u001b[0m, in \u001b[0;36mQueue.get\u001b[0;34m(self, block, timeout)\u001b[0m\n\u001b[1;32m    169\u001b[0m \u001b[38;5;28;01melif\u001b[39;00m timeout \u001b[38;5;129;01mis\u001b[39;00m \u001b[38;5;28;01mNone\u001b[39;00m:\n\u001b[1;32m    170\u001b[0m     \u001b[38;5;28;01mwhile\u001b[39;00m \u001b[38;5;129;01mnot\u001b[39;00m \u001b[38;5;28mself\u001b[39m\u001b[38;5;241m.\u001b[39m_qsize():\n\u001b[0;32m--> 171\u001b[0m         \u001b[38;5;28;43mself\u001b[39;49m\u001b[38;5;241;43m.\u001b[39;49m\u001b[43mnot_empty\u001b[49m\u001b[38;5;241;43m.\u001b[39;49m\u001b[43mwait\u001b[49m\u001b[43m(\u001b[49m\u001b[43m)\u001b[49m\n\u001b[1;32m    172\u001b[0m \u001b[38;5;28;01melif\u001b[39;00m timeout \u001b[38;5;241m<\u001b[39m \u001b[38;5;241m0\u001b[39m:\n\u001b[1;32m    173\u001b[0m     \u001b[38;5;28;01mraise\u001b[39;00m \u001b[38;5;167;01mValueError\u001b[39;00m(\u001b[38;5;124m\"\u001b[39m\u001b[38;5;124m'\u001b[39m\u001b[38;5;124mtimeout\u001b[39m\u001b[38;5;124m'\u001b[39m\u001b[38;5;124m must be a non-negative number\u001b[39m\u001b[38;5;124m\"\u001b[39m)\n",
      "File \u001b[0;32m~/software/miniconda3/envs/point-cloud-env/lib/python3.11/threading.py:320\u001b[0m, in \u001b[0;36mCondition.wait\u001b[0;34m(self, timeout)\u001b[0m\n\u001b[1;32m    318\u001b[0m \u001b[38;5;28;01mtry\u001b[39;00m:    \u001b[38;5;66;03m# restore state no matter what (e.g., KeyboardInterrupt)\u001b[39;00m\n\u001b[1;32m    319\u001b[0m     \u001b[38;5;28;01mif\u001b[39;00m timeout \u001b[38;5;129;01mis\u001b[39;00m \u001b[38;5;28;01mNone\u001b[39;00m:\n\u001b[0;32m--> 320\u001b[0m         \u001b[43mwaiter\u001b[49m\u001b[38;5;241;43m.\u001b[39;49m\u001b[43macquire\u001b[49m\u001b[43m(\u001b[49m\u001b[43m)\u001b[49m\n\u001b[1;32m    321\u001b[0m         gotit \u001b[38;5;241m=\u001b[39m \u001b[38;5;28;01mTrue\u001b[39;00m\n\u001b[1;32m    322\u001b[0m     \u001b[38;5;28;01melse\u001b[39;00m:\n",
      "\u001b[0;31mKeyboardInterrupt\u001b[0m: "
     ]
    }
   ],
   "source": [
    "for x_chunk_i in range(int(np.ceil(pixel_grid_shape[0] / chunk_shape[0]))):\n",
    "    for y_chunk_i in range(int(np.ceil(pixel_grid_shape[1] / chunk_shape[1]))):\n",
    "        print(x_chunk_i, y_chunk_i)\n",
    "        x_offset = x_chunk_i * chunk_shape[0]\n",
    "        y_offset = y_chunk_i * chunk_shape[1]\n",
    "        x_chunk_max = (x_chunk_i + 1) * chunk_shape[0]\n",
    "        y_chunk_max = (y_chunk_i + 1) * chunk_shape[0]\n",
    "\n",
    "        chunk_df = df.loc[(df['x'] >= x_offset) & (df['x'] < x_chunk_max) & (df['y'] >= y_offset) & (df['y'] < y_chunk_max)]\n",
    "        \n",
    "        chunk_x_vals = chunk_df['x'].values.compute()\n",
    "        chunk_y_vals = chunk_df['y'].values.compute()\n",
    "        #chunk_c_vals = chunk_df['cell_type'].values.astype(str).compute()\n",
    "\n",
    "        \n",
    "        print(chunk_df.shape[0].compute())"
   ]
  },
  {
   "cell_type": "code",
   "execution_count": null,
   "id": "f1b7126a-2758-4ec9-b205-e7bb11d2bcb8",
   "metadata": {},
   "outputs": [],
   "source": []
  }
 ],
 "metadata": {
  "kernelspec": {
   "display_name": "Python 3 (ipykernel)",
   "language": "python",
   "name": "python3"
  },
  "language_info": {
   "codemirror_mode": {
    "name": "ipython",
    "version": 3
   },
   "file_extension": ".py",
   "mimetype": "text/x-python",
   "name": "python",
   "nbconvert_exporter": "python",
   "pygments_lexer": "ipython3",
   "version": "3.11.5"
  }
 },
 "nbformat": 4,
 "nbformat_minor": 5
}
