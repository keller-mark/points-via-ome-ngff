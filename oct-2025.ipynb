{
 "cells": [
  {
   "cell_type": "code",
   "execution_count": 25,
   "id": "865e4be5-3606-4528-81e2-e4c59ce3c2c6",
   "metadata": {},
   "outputs": [],
   "source": [
    "import os\n",
    "from os.path import join, isfile, isdir\n",
    "from urllib.request import urlretrieve\n",
    "import zipfile\n",
    "import shutil"
   ]
  },
  {
   "cell_type": "code",
   "execution_count": 26,
   "id": "b691c6d2-aab7-4577-bd43-8be76aef844f",
   "metadata": {},
   "outputs": [],
   "source": [
    "from spatialdata import read_zarr"
   ]
  },
  {
   "cell_type": "code",
   "execution_count": 31,
   "id": "ed7afe5e-c140-4ba6-98d3-d2ba69bdece6",
   "metadata": {},
   "outputs": [],
   "source": [
    "import zarr\n",
    "import numpy as np\n",
    "from tqdm import tqdm"
   ]
  },
  {
   "cell_type": "code",
   "execution_count": 48,
   "id": "408f338e-e930-4e3a-822a-f40ec2d60e03",
   "metadata": {},
   "outputs": [],
   "source": [
    "import dask.array as da"
   ]
  },
  {
   "cell_type": "code",
   "execution_count": 27,
   "id": "8323c55e-133c-422c-ad74-6ade40dcb662",
   "metadata": {},
   "outputs": [],
   "source": [
    "data_dir = \"data\"\n",
    "zip_filepath = join(data_dir, \"xenium_rep1_io.spatialdata.zarr.zip\")\n",
    "spatialdata_filepath = join(data_dir, \"xenium_rep1_io.spatialdata.zarr\")"
   ]
  },
  {
   "cell_type": "code",
   "execution_count": 28,
   "id": "b5e50e11-3d6b-40a1-b195-d766fae524b5",
   "metadata": {},
   "outputs": [],
   "source": [
    "if not isdir(spatialdata_filepath):\n",
    "    if not isfile(zip_filepath):\n",
    "        os.makedirs(data_dir, exist_ok=True)\n",
    "        urlretrieve('https://s3.embl.de/spatialdata/spatialdata-sandbox/xenium_rep1_io.zip', zip_filepath)\n",
    "    with zipfile.ZipFile(zip_filepath,\"r\") as zip_ref:\n",
    "        zip_ref.extractall(data_dir)\n",
    "        os.rename(join(data_dir, \"data.zarr\"), spatialdata_filepath)\n",
    "        \n",
    "        # This Xenium dataset has an AnnData \"raw\" element.\n",
    "        # Reference: https://github.com/giovp/spatialdata-sandbox/issues/55\n",
    "        raw_dir = join(spatialdata_filepath, \"tables\", \"table\", \"raw\")\n",
    "        if isdir(raw_dir):\n",
    "            shutil.rmtree(raw_dir)\n"
   ]
  },
  {
   "cell_type": "code",
   "execution_count": 29,
   "id": "d1ee2e1e-7ca3-4337-904a-d90c68e08091",
   "metadata": {},
   "outputs": [
    {
     "data": {
      "text/plain": [
       "'0.5.0'"
      ]
     },
     "execution_count": 29,
     "metadata": {},
     "output_type": "execute_result"
    }
   ],
   "source": [
    "from importlib.metadata import version\n",
    "version('spatialdata')"
   ]
  },
  {
   "cell_type": "code",
   "execution_count": 30,
   "id": "6df57cd6-333c-4aab-8bcc-6ce5c032fa8e",
   "metadata": {},
   "outputs": [
    {
     "name": "stderr",
     "output_type": "stream",
     "text": [
      "version mismatch: detected: RasterFormatV02, requested: FormatV04\n",
      "/Users/mkeller/research/dbmi/vitessce/point-cloud-exploration/.venv/lib/python3.12/site-packages/zarr/creation.py:610: UserWarning: ignoring keyword argument 'read_only'\n",
      "  compressor, fill_value = _kwargs_compat(compressor, fill_value, kwargs)\n",
      "version mismatch: detected: RasterFormatV02, requested: FormatV04\n"
     ]
    },
    {
     "data": {
      "text/plain": [
       "SpatialData object, with associated Zarr store: /Users/mkeller/research/dbmi/vitessce/point-cloud-exploration/data/xenium_rep1_io.spatialdata.zarr\n",
       "├── Images\n",
       "│     ├── 'morphology_focus': DataTree[cyx] (1, 25778, 35416), (1, 12889, 17708), (1, 6444, 8854), (1, 3222, 4427), (1, 1611, 2213)\n",
       "│     └── 'morphology_mip': DataTree[cyx] (1, 25778, 35416), (1, 12889, 17708), (1, 6444, 8854), (1, 3222, 4427), (1, 1611, 2213)\n",
       "├── Points\n",
       "│     └── 'transcripts': DataFrame with shape: (<Delayed>, 8) (3D points)\n",
       "├── Shapes\n",
       "│     ├── 'cell_boundaries': GeoDataFrame shape: (167780, 1) (2D shapes)\n",
       "│     └── 'cell_circles': GeoDataFrame shape: (167780, 2) (2D shapes)\n",
       "└── Tables\n",
       "      └── 'table': AnnData (167780, 313)\n",
       "with coordinate systems:\n",
       "    ▸ 'global', with elements:\n",
       "        morphology_focus (Images), morphology_mip (Images), transcripts (Points), cell_boundaries (Shapes), cell_circles (Shapes)"
      ]
     },
     "execution_count": 30,
     "metadata": {},
     "output_type": "execute_result"
    }
   ],
   "source": [
    "sdata = read_zarr(spatialdata_filepath)\n",
    "sdata"
   ]
  },
  {
   "cell_type": "code",
   "execution_count": 32,
   "id": "13391bbe-a953-4197-87e1-3a91e19c3442",
   "metadata": {},
   "outputs": [],
   "source": [
    "out_zarr_path = join(data_dir, \"xenium_points.zarr\")"
   ]
  },
  {
   "cell_type": "code",
   "execution_count": 33,
   "id": "e2f2d460-bd2d-4617-aae9-bc39bea4e409",
   "metadata": {},
   "outputs": [],
   "source": [
    "out_store = zarr.open(out_zarr_path, mode=\"a\")"
   ]
  },
  {
   "cell_type": "code",
   "execution_count": 34,
   "id": "3db98d02-740b-4c7e-966c-afd1141c030e",
   "metadata": {},
   "outputs": [],
   "source": [
    "ddf = sdata.points['transcripts']"
   ]
  },
  {
   "cell_type": "code",
   "execution_count": 35,
   "id": "4f5d8fa2-4540-4926-81b1-b1e83c328fcd",
   "metadata": {},
   "outputs": [
    {
     "data": {
      "text/html": [
       "<div>\n",
       "<style scoped>\n",
       "    .dataframe tbody tr th:only-of-type {\n",
       "        vertical-align: middle;\n",
       "    }\n",
       "\n",
       "    .dataframe tbody tr th {\n",
       "        vertical-align: top;\n",
       "    }\n",
       "\n",
       "    .dataframe thead th {\n",
       "        text-align: right;\n",
       "    }\n",
       "</style>\n",
       "<table border=\"1\" class=\"dataframe\">\n",
       "  <thead>\n",
       "    <tr style=\"text-align: right;\">\n",
       "      <th></th>\n",
       "      <th>x</th>\n",
       "      <th>y</th>\n",
       "      <th>z</th>\n",
       "      <th>feature_name</th>\n",
       "      <th>cell_id</th>\n",
       "      <th>overlaps_nucleus</th>\n",
       "      <th>transcript_id</th>\n",
       "      <th>qv</th>\n",
       "    </tr>\n",
       "  </thead>\n",
       "  <tbody>\n",
       "    <tr>\n",
       "      <th>0</th>\n",
       "      <td>4.395842</td>\n",
       "      <td>328.666473</td>\n",
       "      <td>12.019493</td>\n",
       "      <td>SEC11C</td>\n",
       "      <td>565</td>\n",
       "      <td>0</td>\n",
       "      <td>281474976710656</td>\n",
       "      <td>18.662479</td>\n",
       "    </tr>\n",
       "    <tr>\n",
       "      <th>1</th>\n",
       "      <td>5.074415</td>\n",
       "      <td>236.964844</td>\n",
       "      <td>7.608510</td>\n",
       "      <td>NegControlCodeword_0502</td>\n",
       "      <td>540</td>\n",
       "      <td>0</td>\n",
       "      <td>281474976710657</td>\n",
       "      <td>18.634956</td>\n",
       "    </tr>\n",
       "    <tr>\n",
       "      <th>2</th>\n",
       "      <td>4.702023</td>\n",
       "      <td>322.797150</td>\n",
       "      <td>12.289083</td>\n",
       "      <td>SEC11C</td>\n",
       "      <td>562</td>\n",
       "      <td>0</td>\n",
       "      <td>281474976710658</td>\n",
       "      <td>18.662479</td>\n",
       "    </tr>\n",
       "    <tr>\n",
       "      <th>3</th>\n",
       "      <td>4.906601</td>\n",
       "      <td>581.428650</td>\n",
       "      <td>11.222615</td>\n",
       "      <td>DAPK3</td>\n",
       "      <td>271</td>\n",
       "      <td>0</td>\n",
       "      <td>281474976710659</td>\n",
       "      <td>20.821745</td>\n",
       "    </tr>\n",
       "    <tr>\n",
       "      <th>4</th>\n",
       "      <td>5.660699</td>\n",
       "      <td>720.851746</td>\n",
       "      <td>9.265523</td>\n",
       "      <td>TCIM</td>\n",
       "      <td>291</td>\n",
       "      <td>0</td>\n",
       "      <td>281474976710660</td>\n",
       "      <td>18.017488</td>\n",
       "    </tr>\n",
       "  </tbody>\n",
       "</table>\n",
       "</div>"
      ],
      "text/plain": [
       "          x           y          z             feature_name  cell_id  \\\n",
       "0  4.395842  328.666473  12.019493                   SEC11C      565   \n",
       "1  5.074415  236.964844   7.608510  NegControlCodeword_0502      540   \n",
       "2  4.702023  322.797150  12.289083                   SEC11C      562   \n",
       "3  4.906601  581.428650  11.222615                    DAPK3      271   \n",
       "4  5.660699  720.851746   9.265523                     TCIM      291   \n",
       "\n",
       "   overlaps_nucleus    transcript_id         qv  \n",
       "0                 0  281474976710656  18.662479  \n",
       "1                 0  281474976710657  18.634956  \n",
       "2                 0  281474976710658  18.662479  \n",
       "3                 0  281474976710659  20.821745  \n",
       "4                 0  281474976710660  18.017488  "
      ]
     },
     "execution_count": 35,
     "metadata": {},
     "output_type": "execute_result"
    }
   ],
   "source": [
    "ddf.head()"
   ]
  },
  {
   "cell_type": "code",
   "execution_count": 36,
   "id": "3d51c2de-627b-42d8-bf04-11c50c196d72",
   "metadata": {},
   "outputs": [
    {
     "name": "stderr",
     "output_type": "stream",
     "text": [
      "/Users/mkeller/research/dbmi/vitessce/point-cloud-exploration/.venv/lib/python3.12/site-packages/dask/dataframe/core.py:4448: UserWarning: \n",
      "You did not provide metadata, so Dask is running your function on a small dataset to guess output types. It is possible that Dask will guess incorrectly.\n",
      "To provide an explicit output types or to silence this message, please provide the `meta=` keyword, as described in the map or apply function that you are using.\n",
      "  Before: .apply(func)\n",
      "  After:  .apply(func, meta=('feature_name', 'category'))\n",
      "\n",
      "  warnings.warn(meta_warning(meta))\n"
     ]
    }
   ],
   "source": [
    "# Convert feature_name to feature_index\n",
    "table_name = 'table'\n",
    "var_name_col = 'feature_name'\n",
    "var_df = sdata.tables[table_name].var\n",
    "var_index = var_df.index.values.tolist()\n",
    "\n",
    "def try_index(gene_name):\n",
    "    try:\n",
    "        return var_index.index(gene_name)\n",
    "    except BaseException:\n",
    "        return -1\n",
    "ddf['c'] = ddf[var_name_col].apply(try_index).astype('int32')"
   ]
  },
  {
   "cell_type": "code",
   "execution_count": 37,
   "id": "280b4436-8df6-41d4-93ab-c98de3adb7b8",
   "metadata": {},
   "outputs": [],
   "source": [
    "x_min = ddf['x'].min().compute()\n",
    "x_max = ddf['x'].max().compute()\n",
    "\n",
    "y_min = ddf['y'].min().compute()\n",
    "y_max = ddf['y'].max().compute()\n",
    "\n",
    "z_min = ddf['z'].min().compute()\n",
    "z_max = ddf['z'].max().compute()"
   ]
  },
  {
   "cell_type": "code",
   "execution_count": 38,
   "id": "87514a43-2d01-42af-bceb-23dedf04d9ed",
   "metadata": {},
   "outputs": [
    {
     "data": {
      "text/plain": [
       "(np.float32(30100.0), np.float32(21880.0))"
      ]
     },
     "execution_count": 38,
     "metadata": {},
     "output_type": "execute_result"
    }
   ],
   "source": [
    "scale_factor = 4.0\n",
    "pixel_grid_shape = (np.ceil(x_max - x_min) * scale_factor, np.ceil(y_max - y_min) * scale_factor)\n",
    "#pixel_grid_shape = (np.ceil(x_max - x_min) * scale_factor, np.ceil(y_max - y_min) * scale_factor, np.ceil(z_max - z_min) * scale_factor)\n",
    "pixel_grid_shape"
   ]
  },
  {
   "cell_type": "code",
   "execution_count": 39,
   "id": "e9a52e77-4f36-460c-996a-28d8e4fcb949",
   "metadata": {},
   "outputs": [
    {
     "name": "stderr",
     "output_type": "stream",
     "text": [
      "/Users/mkeller/research/dbmi/vitessce/point-cloud-exploration/.venv/lib/python3.12/site-packages/zarr/storage.py:536: UserWarning: shape contains non-integer value(s)\n",
      "  shape = normalize_shape(shape) + dtype.shape\n"
     ]
    },
    {
     "data": {
      "text/plain": [
       "(471, 684)"
      ]
     },
     "execution_count": 39,
     "metadata": {},
     "output_type": "execute_result"
    }
   ],
   "source": [
    "z = zarr.zeros(pixel_grid_shape)\n",
    "# Let zarr automatically determine the chunk shape\n",
    "# TODO: directly call zarr.normalize_chunks()\n",
    "chunk_shape = z.chunks\n",
    "chunk_shape"
   ]
  },
  {
   "cell_type": "code",
   "execution_count": 40,
   "id": "5657d0fa-8775-4c0a-b172-84bbe0920e20",
   "metadata": {},
   "outputs": [
    {
     "data": {
      "text/plain": [
       "np.float32(427.0)"
      ]
     },
     "execution_count": 40,
     "metadata": {},
     "output_type": "execute_result"
    }
   ],
   "source": [
    "pixel_grid_shape[0] % chunk_shape[0]"
   ]
  },
  {
   "cell_type": "code",
   "execution_count": 41,
   "id": "604bbc28-66b9-4d12-a8d3-275f389c566f",
   "metadata": {},
   "outputs": [
    {
     "data": {
      "text/plain": [
       "(64, 32)"
      ]
     },
     "execution_count": 41,
     "metadata": {},
     "output_type": "execute_result"
    }
   ],
   "source": [
    "nice_num_chunks = (int(np.ceil(pixel_grid_shape[0] / chunk_shape[0])), int(np.ceil(pixel_grid_shape[1] / chunk_shape[1])))\n",
    "#nice_num_chunks = (int(np.ceil(pixel_grid_shape[0] / chunk_shape[0])), int(np.ceil(pixel_grid_shape[1] / chunk_shape[1])), int(np.ceil(pixel_grid_shape[2] / chunk_shape[2])))\n",
    "nice_num_chunks"
   ]
  },
  {
   "cell_type": "code",
   "execution_count": 42,
   "id": "17814d36-56aa-4131-b0a4-084953886b08",
   "metadata": {},
   "outputs": [
    {
     "data": {
      "text/plain": [
       "(30144, 21888)"
      ]
     },
     "execution_count": 42,
     "metadata": {},
     "output_type": "execute_result"
    }
   ],
   "source": [
    "nice_pixel_grid_shape = (nice_num_chunks[0] * chunk_shape[0], nice_num_chunks[1] * chunk_shape[1])\n",
    "#nice_pixel_grid_shape = (nice_num_chunks[0] * chunk_shape[0], nice_num_chunks[1] * chunk_shape[1], nice_num_chunks[2] * chunk_shape[2])\n",
    "nice_pixel_grid_shape"
   ]
  },
  {
   "cell_type": "code",
   "execution_count": 43,
   "id": "73a37acf-fa2c-4bc7-953e-c3de331f93f1",
   "metadata": {},
   "outputs": [],
   "source": [
    "z_x = zarr.zeros(nice_pixel_grid_shape, chunks=chunk_shape)\n",
    "z_y = zarr.zeros(nice_pixel_grid_shape, chunks=chunk_shape)\n",
    "#z_z = zarr.zeros(nice_pixel_grid_shape, chunks=chunk_shape)\n",
    "z_c = zarr.zeros(nice_pixel_grid_shape, chunks=chunk_shape)"
   ]
  },
  {
   "cell_type": "code",
   "execution_count": 47,
   "id": "e68399c4-b959-4d8c-bbc4-388a7c1041b9",
   "metadata": {},
   "outputs": [],
   "source": [
    "# Save the zeros arrays to disk.\n",
    "out_store['/x'] = z_x\n",
    "out_store['/y'] = z_y\n",
    "#out_store['/z'] = z_z\n",
    "out_store['/c'] = z_c"
   ]
  },
  {
   "cell_type": "code",
   "execution_count": 44,
   "id": "d63233ca-f22d-4236-a094-ebbda633d6d9",
   "metadata": {},
   "outputs": [],
   "source": [
    "ddf['x'] = ((ddf['x'] - x_min) / (x_max - x_min)) * pixel_grid_shape[0]\n",
    "ddf['y'] = ((ddf['y'] - y_min) / (y_max - y_min)) * pixel_grid_shape[1]\n",
    "#ddf['z'] = ((ddf['z'] - y_min) / (z_max - z_min)) * pixel_grid_shape[2]"
   ]
  },
  {
   "cell_type": "code",
   "execution_count": 45,
   "id": "936d40fb-bbc1-4ed6-b0d8-069b0bbd35a1",
   "metadata": {},
   "outputs": [
    {
     "data": {
      "text/html": [
       "<div>\n",
       "<style scoped>\n",
       "    .dataframe tbody tr th:only-of-type {\n",
       "        vertical-align: middle;\n",
       "    }\n",
       "\n",
       "    .dataframe tbody tr th {\n",
       "        vertical-align: top;\n",
       "    }\n",
       "\n",
       "    .dataframe thead th {\n",
       "        text-align: right;\n",
       "    }\n",
       "</style>\n",
       "<table border=\"1\" class=\"dataframe\">\n",
       "  <thead>\n",
       "    <tr style=\"text-align: right;\">\n",
       "      <th></th>\n",
       "      <th>x</th>\n",
       "      <th>y</th>\n",
       "      <th>z</th>\n",
       "      <th>feature_name</th>\n",
       "      <th>cell_id</th>\n",
       "      <th>overlaps_nucleus</th>\n",
       "      <th>transcript_id</th>\n",
       "      <th>qv</th>\n",
       "      <th>c</th>\n",
       "    </tr>\n",
       "  </thead>\n",
       "  <tbody>\n",
       "    <tr>\n",
       "      <th>0</th>\n",
       "      <td>25.078289</td>\n",
       "      <td>1297.217773</td>\n",
       "      <td>12.019493</td>\n",
       "      <td>SEC11C</td>\n",
       "      <td>565</td>\n",
       "      <td>0</td>\n",
       "      <td>281474976710656</td>\n",
       "      <td>18.662479</td>\n",
       "      <td>253</td>\n",
       "    </tr>\n",
       "    <tr>\n",
       "      <th>1</th>\n",
       "      <td>27.792721</td>\n",
       "      <td>930.350403</td>\n",
       "      <td>7.608510</td>\n",
       "      <td>NegControlCodeword_0502</td>\n",
       "      <td>540</td>\n",
       "      <td>0</td>\n",
       "      <td>281474976710657</td>\n",
       "      <td>18.634956</td>\n",
       "      <td>-1</td>\n",
       "    </tr>\n",
       "    <tr>\n",
       "      <th>2</th>\n",
       "      <td>26.303076</td>\n",
       "      <td>1273.736572</td>\n",
       "      <td>12.289083</td>\n",
       "      <td>SEC11C</td>\n",
       "      <td>562</td>\n",
       "      <td>0</td>\n",
       "      <td>281474976710658</td>\n",
       "      <td>18.662479</td>\n",
       "      <td>253</td>\n",
       "    </tr>\n",
       "    <tr>\n",
       "      <th>3</th>\n",
       "      <td>27.121431</td>\n",
       "      <td>2308.434082</td>\n",
       "      <td>11.222615</td>\n",
       "      <td>DAPK3</td>\n",
       "      <td>271</td>\n",
       "      <td>0</td>\n",
       "      <td>281474976710659</td>\n",
       "      <td>20.821745</td>\n",
       "      <td>93</td>\n",
       "    </tr>\n",
       "    <tr>\n",
       "      <th>4</th>\n",
       "      <td>30.137976</td>\n",
       "      <td>2866.218750</td>\n",
       "      <td>9.265523</td>\n",
       "      <td>TCIM</td>\n",
       "      <td>291</td>\n",
       "      <td>0</td>\n",
       "      <td>281474976710660</td>\n",
       "      <td>18.017488</td>\n",
       "      <td>284</td>\n",
       "    </tr>\n",
       "  </tbody>\n",
       "</table>\n",
       "</div>"
      ],
      "text/plain": [
       "           x            y          z             feature_name  cell_id  \\\n",
       "0  25.078289  1297.217773  12.019493                   SEC11C      565   \n",
       "1  27.792721   930.350403   7.608510  NegControlCodeword_0502      540   \n",
       "2  26.303076  1273.736572  12.289083                   SEC11C      562   \n",
       "3  27.121431  2308.434082  11.222615                    DAPK3      271   \n",
       "4  30.137976  2866.218750   9.265523                     TCIM      291   \n",
       "\n",
       "   overlaps_nucleus    transcript_id         qv    c  \n",
       "0                 0  281474976710656  18.662479  253  \n",
       "1                 0  281474976710657  18.634956   -1  \n",
       "2                 0  281474976710658  18.662479  253  \n",
       "3                 0  281474976710659  20.821745   93  \n",
       "4                 0  281474976710660  18.017488  284  "
      ]
     },
     "execution_count": 45,
     "metadata": {},
     "output_type": "execute_result"
    }
   ],
   "source": [
    "ddf.head()"
   ]
  },
  {
   "cell_type": "code",
   "execution_count": 46,
   "id": "d3ad5abd-847f-4f6e-a52f-1e08944b0079",
   "metadata": {},
   "outputs": [],
   "source": [
    "def pad_with_zeros(chunk_vals, chunk_len, val_shape, val_len):\n",
    "    out_vals = np.zeros((val_len,))\n",
    "    out_vals[0:chunk_len] = chunk_vals\n",
    "    return out_vals.reshape(val_shape) # TODO: more sophisticated rounding"
   ]
  },
  {
   "cell_type": "code",
   "execution_count": 49,
   "id": "8fabc91c-3b9f-4c97-85c2-d9cb4e0d81de",
   "metadata": {},
   "outputs": [],
   "source": [
    "df = ddf.compute()"
   ]
  },
  {
   "cell_type": "code",
   "execution_count": 77,
   "id": "db655e60-b25f-4b9c-bf1a-400d308f115d",
   "metadata": {},
   "outputs": [],
   "source": [
    "def create_fill_func(dim_name):\n",
    "    def fill_chunk_for_dim(arr_in, block_info=None):\n",
    "        if block_info is not None:\n",
    "            #print(block_info[0])\n",
    "            x_offset = block_info[0][\"array-location\"][0][0]\n",
    "            y_offset = block_info[0][\"array-location\"][1][0]\n",
    "            x_chunk_max = block_info[0][\"array-location\"][0][1]\n",
    "            y_chunk_max = block_info[0][\"array-location\"][1][1]\n",
    "    \n",
    "            chunk_df = df.loc[(df['x'] >= x_offset) & (df['x'] < x_chunk_max) & (df['y'] >= y_offset) & (df['y'] < y_chunk_max)]\n",
    "            \n",
    "            chunk_x_vals = chunk_df['x'].values\n",
    "            chunk_y_vals = chunk_df['y'].values\n",
    "            #chunk_z_vals = chunk_df['z'].values\n",
    "            chunk_c_vals = chunk_df['c'].values\n",
    "    \n",
    "            chunk_len = chunk_df.shape[0]\n",
    "    \n",
    "            # All x/y values here should be less than the chunk shape width/height.\n",
    "            val_shape = (x_chunk_max - x_offset, y_chunk_max - y_offset)\n",
    "            val_len = val_shape[0] * val_shape[1]\n",
    "    \n",
    "            if chunk_len > val_len:\n",
    "                raise ValueError(\"values do not fit in chunk. try increasing scale_factor\")\n",
    "            \n",
    "            if chunk_len > 0:\n",
    "                x_out = pad_with_zeros(chunk_x_vals, chunk_len, val_shape, val_len) # TODO: convert to output dtype using .astype\n",
    "                y_out = pad_with_zeros(chunk_y_vals, chunk_len, val_shape, val_len)\n",
    "                #z_out = pad_with_zeros(chunk_z_vals, chunk_len, val_shape, val_len)\n",
    "                c_out = pad_with_zeros(chunk_c_vals, chunk_len, val_shape, val_len)\n",
    "\n",
    "                if dim_name == \"x\":\n",
    "                    return x_out\n",
    "                elif dim_name == \"y\":\n",
    "                    return y_out\n",
    "                elif dim_name == \"z\":\n",
    "                    raise ValueError(\"notyetimplemented: z_out\")\n",
    "                    #return z_out\n",
    "                elif dim_name == \"c\":\n",
    "                    return c_out\n",
    "                raise ValueError(\"unknown dim_name\")\n",
    "        return arr_in\n",
    "    return fill_chunk_for_dim"
   ]
  },
  {
   "cell_type": "code",
   "execution_count": 78,
   "id": "51886221-dab4-40b5-9840-eef5245570ca",
   "metadata": {
    "scrolled": true
   },
   "outputs": [
    {
     "name": "stderr",
     "output_type": "stream",
     "text": [
      "/Users/mkeller/research/dbmi/vitessce/point-cloud-exploration/.venv/lib/python3.12/site-packages/zarr/creation.py:610: UserWarning: ignoring keyword argument 'read_only'\n",
      "  compressor, fill_value = _kwargs_compat(compressor, fill_value, kwargs)\n"
     ]
    }
   ],
   "source": [
    "da_x = da.from_zarr(url=out_zarr_path, component=\"/x\")\n",
    "da_y = da.from_zarr(url=out_zarr_path, component=\"/y\")\n",
    "#da_z = da.from_zarr(url=out_zarr_path, component=\"/z\")\n",
    "da_c = da.from_zarr(url=out_zarr_path, component=\"/c\")"
   ]
  },
  {
   "cell_type": "code",
   "execution_count": 87,
   "id": "470fba6a-6fd5-487b-a6cb-bcc06d3bd112",
   "metadata": {},
   "outputs": [],
   "source": [
    "out_da_x = da_x.map_blocks(create_fill_func(\"x\")) # TODO: specify output dtype\n",
    "out_da_y = da_y.map_blocks(create_fill_func(\"y\"))\n",
    "#out_da_z = da_z.map_blocks(create_fill_func(\"z\"))\n",
    "out_da_c = da_c.map_blocks(create_fill_func(\"c\"))"
   ]
  },
  {
   "cell_type": "code",
   "execution_count": 88,
   "id": "0ef63fa1-9d86-464e-b20d-9bff71df1050",
   "metadata": {},
   "outputs": [],
   "source": [
    "out_da_x.to_zarr(url=out_zarr_path, component=\"/x\", overwrite=True, compute=True)\n",
    "out_da_y.to_zarr(url=out_zarr_path, component=\"/y\", overwrite=True, compute=True)\n",
    "out_da_c.to_zarr(url=out_zarr_path, component=\"/c\", overwrite=True, compute=True)"
   ]
  },
  {
   "cell_type": "code",
   "execution_count": 89,
   "id": "067fea44-67a5-49af-ba36-cb2f2df385b8",
   "metadata": {},
   "outputs": [],
   "source": [
    "# Check"
   ]
  },
  {
   "cell_type": "code",
   "execution_count": null,
   "id": "23efbd96-ab5f-4d62-9dca-75394834df57",
   "metadata": {},
   "outputs": [],
   "source": [
    "# Save in OME-Zarr\n",
    "# Define scale/translate transformations that reflect the normalization operations performed."
   ]
  }
 ],
 "metadata": {
  "kernelspec": {
   "display_name": "Python 3 (ipykernel)",
   "language": "python",
   "name": "python3"
  },
  "language_info": {
   "codemirror_mode": {
    "name": "ipython",
    "version": 3
   },
   "file_extension": ".py",
   "mimetype": "text/x-python",
   "name": "python",
   "nbconvert_exporter": "python",
   "pygments_lexer": "ipython3",
   "version": "3.12.5"
  }
 },
 "nbformat": 4,
 "nbformat_minor": 5
}
