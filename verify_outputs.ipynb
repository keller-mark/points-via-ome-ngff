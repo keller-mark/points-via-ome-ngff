{
 "cells": [
  {
   "cell_type": "code",
   "execution_count": 16,
   "id": "e4722e34-497f-4ec8-b0d4-177b6fde2bc3",
   "metadata": {},
   "outputs": [],
   "source": [
    "import zarr\n",
    "import numpy as np\n",
    "from os.path import join"
   ]
  },
  {
   "cell_type": "code",
   "execution_count": 17,
   "id": "6b8cd031-3f5a-4c05-a858-3dadb832ecf0",
   "metadata": {},
   "outputs": [],
   "source": [
    "from spatialdata import read_zarr"
   ]
  },
  {
   "cell_type": "code",
   "execution_count": 18,
   "id": "a776fe74-586c-4d8c-8e9e-45fcd6087236",
   "metadata": {},
   "outputs": [],
   "source": [
    "data_dir = \"data\"\n",
    "sdata_path = join(data_dir, \"xenium_rep1_io.spatialdata.zarr\")\n",
    "ngff_path = join(data_dir, \"xenium_points.ome.zarr\")"
   ]
  },
  {
   "cell_type": "code",
   "execution_count": 19,
   "id": "3dd6937e-8bb3-4f88-9c01-8e4f7b1d4e93",
   "metadata": {},
   "outputs": [
    {
     "name": "stderr",
     "output_type": "stream",
     "text": [
      "version mismatch: detected: RasterFormatV02, requested: FormatV04\n",
      "/Users/mkeller/research/dbmi/vitessce/point-cloud-exploration/.venv/lib/python3.12/site-packages/zarr/creation.py:610: UserWarning: ignoring keyword argument 'read_only'\n",
      "  compressor, fill_value = _kwargs_compat(compressor, fill_value, kwargs)\n",
      "version mismatch: detected: RasterFormatV02, requested: FormatV04\n"
     ]
    }
   ],
   "source": [
    "sdata = read_zarr(sdata_path)\n",
    "ddf = sdata.points[\"transcripts\"]\n",
    "df = ddf.compute()"
   ]
  },
  {
   "cell_type": "code",
   "execution_count": 20,
   "id": "09ff1bed-4ac7-4402-a90b-53bcfeb25a32",
   "metadata": {},
   "outputs": [],
   "source": [
    "z = zarr.open(ngff_path, mode=\"r\")\n",
    "img_arr = z['/0']"
   ]
  },
  {
   "cell_type": "code",
   "execution_count": 21,
   "id": "e049ef2e-14d0-4dc2-9b55-bf234e36b2a7",
   "metadata": {},
   "outputs": [
    {
     "data": {
      "text/plain": [
       "(1, 471, 684)"
      ]
     },
     "execution_count": 21,
     "metadata": {},
     "output_type": "execute_result"
    }
   ],
   "source": [
    "img_arr.chunks"
   ]
  },
  {
   "cell_type": "code",
   "execution_count": 43,
   "id": "887d8964-664d-4587-91b9-0e446f6c40e4",
   "metadata": {},
   "outputs": [],
   "source": [
    "chunk_shape = img_arr.chunks\n",
    "first_chunk = img_arr[:, :chunk_shape[1], :chunk_shape[2]]"
   ]
  },
  {
   "cell_type": "code",
   "execution_count": 44,
   "id": "3423c256-ddca-42ba-8489-bfd6d615c47a",
   "metadata": {},
   "outputs": [
    {
     "data": {
      "text/plain": [
       "array([[[ 44.79042053,  45.90461731,  50.93250275, ..., 354.08953857,\n",
       "         356.8527832 , 363.12747192],\n",
       "        [378.03845215, 381.3364563 , 382.00964355, ..., 191.56343079,\n",
       "         194.67765808, 206.65226746],\n",
       "        [207.83117676, 209.07495117, 210.36459351, ..., 233.95748901,\n",
       "         234.85700989, 237.41049194],\n",
       "        ...,\n",
       "        [  0.        ,   0.        ,   0.        , ...,   0.        ,\n",
       "           0.        ,   0.        ],\n",
       "        [  0.        ,   0.        ,   0.        , ...,   0.        ,\n",
       "           0.        ,   0.        ],\n",
       "        [  0.        ,   0.        ,   0.        , ...,   0.        ,\n",
       "           0.        ,   0.        ]],\n",
       "\n",
       "       [[595.84332275, 632.55426025, 296.1116333 , ..., 633.32312012,\n",
       "         672.86102295, 597.88641357],\n",
       "        [652.95556641, 441.11404419, 678.50195312, ..., 593.01159668,\n",
       "         602.39837646, 667.2298584 ],\n",
       "        [647.40289307, 630.24163818, 609.07568359, ..., 577.71411133,\n",
       "         484.68688965, 672.6697998 ],\n",
       "        ...,\n",
       "        [  0.        ,   0.        ,   0.        , ...,   0.        ,\n",
       "           0.        ,   0.        ],\n",
       "        [  0.        ,   0.        ,   0.        , ...,   0.        ,\n",
       "           0.        ,   0.        ],\n",
       "        [  0.        ,   0.        ,   0.        , ...,   0.        ,\n",
       "           0.        ,   0.        ]],\n",
       "\n",
       "       [[153.        , 237.        , 284.        , ..., 170.        ,\n",
       "         195.        , 170.        ],\n",
       "        [311.        , 106.        , 170.        , ..., 126.        ,\n",
       "         111.        , 111.        ],\n",
       "        [256.        , 204.        ,   1.        , ..., 206.        ,\n",
       "         183.        , 119.        ],\n",
       "        ...,\n",
       "        [  0.        ,   0.        ,   0.        , ...,   0.        ,\n",
       "           0.        ,   0.        ],\n",
       "        [  0.        ,   0.        ,   0.        , ...,   0.        ,\n",
       "           0.        ,   0.        ],\n",
       "        [  0.        ,   0.        ,   0.        , ...,   0.        ,\n",
       "           0.        ,   0.        ]]], shape=(3, 471, 684))"
      ]
     },
     "execution_count": 44,
     "metadata": {},
     "output_type": "execute_result"
    }
   ],
   "source": [
    "first_chunk"
   ]
  },
  {
   "cell_type": "code",
   "execution_count": 45,
   "id": "e54021b3-2132-43ff-9b95-f776b73a2e8f",
   "metadata": {},
   "outputs": [],
   "source": [
    "scale_factor = 4.0 # TODO: get from metadata"
   ]
  },
  {
   "cell_type": "code",
   "execution_count": 46,
   "id": "85cdc571-6d06-4841-bc34-3416c7c15325",
   "metadata": {},
   "outputs": [
    {
     "data": {
      "text/plain": [
       "[{'scale': [1.0, 4.0, 4.0], 'type': 'scale'},\n",
       " {'translation': [0.0, -1.8734135627746582, 4.415738582611084],\n",
       "  'type': 'translation'}]"
      ]
     },
     "execution_count": 46,
     "metadata": {},
     "output_type": "execute_result"
    }
   ],
   "source": [
    "z.attrs[\"multiscales\"][0][\"datasets\"][0][\"coordinateTransformations\"]"
   ]
  },
  {
   "cell_type": "code",
   "execution_count": 68,
   "id": "8207b363-0159-4188-bdae-1f24b348bd42",
   "metadata": {},
   "outputs": [],
   "source": [
    "df[\"norm_x\"] = (df[\"x\"] - -1.8734135627746582) * scale_factor\n",
    "df[\"norm_y\"] = (df[\"y\"] - 4.415738582611084) * scale_factor"
   ]
  },
  {
   "cell_type": "code",
   "execution_count": 69,
   "id": "354bc07e-042b-4514-9ab2-be4e6ed7c206",
   "metadata": {},
   "outputs": [],
   "source": [
    "first_chunk_df = df.loc[(df[\"norm_x\"] <= chunk_shape[1]) & (df[\"norm_y\"] <= chunk_shape[2])]"
   ]
  },
  {
   "cell_type": "code",
   "execution_count": 77,
   "id": "757cda88-5043-4474-bad3-afa789b27431",
   "metadata": {},
   "outputs": [
    {
     "data": {
      "text/plain": [
       "9.324191687225342"
      ]
     },
     "execution_count": 77,
     "metadata": {},
     "output_type": "execute_result"
    }
   ],
   "source": [
    "(44.790421 / scale_factor) + -1.8734135627746582"
   ]
  },
  {
   "cell_type": "code",
   "execution_count": 78,
   "id": "6e707995-14f2-49cf-89b3-b084dbcfe1f2",
   "metadata": {},
   "outputs": [
    {
     "data": {
      "text/plain": [
       "153.3765693326111"
      ]
     },
     "execution_count": 78,
     "metadata": {},
     "output_type": "execute_result"
    }
   ],
   "source": [
    "(595.843323 / scale_factor) + 4.415738582611084"
   ]
  },
  {
   "cell_type": "code",
   "execution_count": 70,
   "id": "a48cfb73-fda8-4e3c-a01e-53219b21abad",
   "metadata": {},
   "outputs": [
    {
     "data": {
      "text/html": [
       "<div>\n",
       "<style scoped>\n",
       "    .dataframe tbody tr th:only-of-type {\n",
       "        vertical-align: middle;\n",
       "    }\n",
       "\n",
       "    .dataframe tbody tr th {\n",
       "        vertical-align: top;\n",
       "    }\n",
       "\n",
       "    .dataframe thead th {\n",
       "        text-align: right;\n",
       "    }\n",
       "</style>\n",
       "<table border=\"1\" class=\"dataframe\">\n",
       "  <thead>\n",
       "    <tr style=\"text-align: right;\">\n",
       "      <th></th>\n",
       "      <th>x</th>\n",
       "      <th>y</th>\n",
       "      <th>z</th>\n",
       "      <th>feature_name</th>\n",
       "      <th>cell_id</th>\n",
       "      <th>overlaps_nucleus</th>\n",
       "      <th>transcript_id</th>\n",
       "      <th>qv</th>\n",
       "      <th>norm_x</th>\n",
       "      <th>norm_y</th>\n",
       "    </tr>\n",
       "  </thead>\n",
       "  <tbody>\n",
       "    <tr>\n",
       "      <th>29</th>\n",
       "      <td>9.324192</td>\n",
       "      <td>153.376572</td>\n",
       "      <td>8.940705</td>\n",
       "      <td>ITGAX</td>\n",
       "      <td>490</td>\n",
       "      <td>0</td>\n",
       "      <td>281474976710685</td>\n",
       "      <td>40.000000</td>\n",
       "      <td>44.790421</td>\n",
       "      <td>595.843323</td>\n",
       "    </tr>\n",
       "    <tr>\n",
       "      <th>36</th>\n",
       "      <td>9.602740</td>\n",
       "      <td>162.554306</td>\n",
       "      <td>9.082570</td>\n",
       "      <td>PTRHD1</td>\n",
       "      <td>490</td>\n",
       "      <td>0</td>\n",
       "      <td>281474976710692</td>\n",
       "      <td>16.651773</td>\n",
       "      <td>45.904617</td>\n",
       "      <td>632.554260</td>\n",
       "    </tr>\n",
       "    <tr>\n",
       "      <th>40</th>\n",
       "      <td>10.859712</td>\n",
       "      <td>78.443649</td>\n",
       "      <td>7.236133</td>\n",
       "      <td>TCIM</td>\n",
       "      <td>480</td>\n",
       "      <td>0</td>\n",
       "      <td>281474976710696</td>\n",
       "      <td>40.000000</td>\n",
       "      <td>50.932503</td>\n",
       "      <td>296.111633</td>\n",
       "    </tr>\n",
       "    <tr>\n",
       "      <th>44</th>\n",
       "      <td>10.418414</td>\n",
       "      <td>167.996048</td>\n",
       "      <td>8.731602</td>\n",
       "      <td>GLIPR1</td>\n",
       "      <td>492</td>\n",
       "      <td>0</td>\n",
       "      <td>281474976710700</td>\n",
       "      <td>9.398639</td>\n",
       "      <td>49.167313</td>\n",
       "      <td>654.321228</td>\n",
       "    </tr>\n",
       "    <tr>\n",
       "      <th>55</th>\n",
       "      <td>11.866437</td>\n",
       "      <td>94.522766</td>\n",
       "      <td>10.064598</td>\n",
       "      <td>DAPK3</td>\n",
       "      <td>485</td>\n",
       "      <td>1</td>\n",
       "      <td>281474976710711</td>\n",
       "      <td>40.000000</td>\n",
       "      <td>54.959404</td>\n",
       "      <td>360.428101</td>\n",
       "    </tr>\n",
       "    <tr>\n",
       "      <th>...</th>\n",
       "      <td>...</td>\n",
       "      <td>...</td>\n",
       "      <td>...</td>\n",
       "      <td>...</td>\n",
       "      <td>...</td>\n",
       "      <td>...</td>\n",
       "      <td>...</td>\n",
       "      <td>...</td>\n",
       "      <td>...</td>\n",
       "      <td>...</td>\n",
       "    </tr>\n",
       "    <tr>\n",
       "      <th>881692</th>\n",
       "      <td>105.662468</td>\n",
       "      <td>130.266647</td>\n",
       "      <td>15.984596</td>\n",
       "      <td>ANGPT2</td>\n",
       "      <td>19013</td>\n",
       "      <td>0</td>\n",
       "      <td>281474977605576</td>\n",
       "      <td>8.257154</td>\n",
       "      <td>430.143524</td>\n",
       "      <td>503.403625</td>\n",
       "    </tr>\n",
       "    <tr>\n",
       "      <th>881694</th>\n",
       "      <td>105.593643</td>\n",
       "      <td>165.153793</td>\n",
       "      <td>15.190280</td>\n",
       "      <td>ANKRD30A</td>\n",
       "      <td>19010</td>\n",
       "      <td>0</td>\n",
       "      <td>281474977605578</td>\n",
       "      <td>40.000000</td>\n",
       "      <td>429.868225</td>\n",
       "      <td>642.952209</td>\n",
       "    </tr>\n",
       "    <tr>\n",
       "      <th>881755</th>\n",
       "      <td>108.429642</td>\n",
       "      <td>173.583237</td>\n",
       "      <td>12.367968</td>\n",
       "      <td>DST</td>\n",
       "      <td>19010</td>\n",
       "      <td>1</td>\n",
       "      <td>281474977605639</td>\n",
       "      <td>40.000000</td>\n",
       "      <td>441.212219</td>\n",
       "      <td>676.669983</td>\n",
       "    </tr>\n",
       "    <tr>\n",
       "      <th>881905</th>\n",
       "      <td>113.796791</td>\n",
       "      <td>167.498001</td>\n",
       "      <td>13.387850</td>\n",
       "      <td>NARS</td>\n",
       "      <td>19010</td>\n",
       "      <td>1</td>\n",
       "      <td>281474977605789</td>\n",
       "      <td>40.000000</td>\n",
       "      <td>462.680817</td>\n",
       "      <td>652.329041</td>\n",
       "    </tr>\n",
       "    <tr>\n",
       "      <th>881942</th>\n",
       "      <td>115.382233</td>\n",
       "      <td>169.105789</td>\n",
       "      <td>11.555991</td>\n",
       "      <td>SQLE</td>\n",
       "      <td>19010</td>\n",
       "      <td>1</td>\n",
       "      <td>281474977605826</td>\n",
       "      <td>40.000000</td>\n",
       "      <td>469.022583</td>\n",
       "      <td>658.760193</td>\n",
       "    </tr>\n",
       "  </tbody>\n",
       "</table>\n",
       "<p>6392 rows × 10 columns</p>\n",
       "</div>"
      ],
      "text/plain": [
       "                 x           y          z feature_name  cell_id  \\\n",
       "29        9.324192  153.376572   8.940705        ITGAX      490   \n",
       "36        9.602740  162.554306   9.082570       PTRHD1      490   \n",
       "40       10.859712   78.443649   7.236133         TCIM      480   \n",
       "44       10.418414  167.996048   8.731602       GLIPR1      492   \n",
       "55       11.866437   94.522766  10.064598        DAPK3      485   \n",
       "...            ...         ...        ...          ...      ...   \n",
       "881692  105.662468  130.266647  15.984596       ANGPT2    19013   \n",
       "881694  105.593643  165.153793  15.190280     ANKRD30A    19010   \n",
       "881755  108.429642  173.583237  12.367968          DST    19010   \n",
       "881905  113.796791  167.498001  13.387850         NARS    19010   \n",
       "881942  115.382233  169.105789  11.555991         SQLE    19010   \n",
       "\n",
       "        overlaps_nucleus    transcript_id         qv      norm_x      norm_y  \n",
       "29                     0  281474976710685  40.000000   44.790421  595.843323  \n",
       "36                     0  281474976710692  16.651773   45.904617  632.554260  \n",
       "40                     0  281474976710696  40.000000   50.932503  296.111633  \n",
       "44                     0  281474976710700   9.398639   49.167313  654.321228  \n",
       "55                     1  281474976710711  40.000000   54.959404  360.428101  \n",
       "...                  ...              ...        ...         ...         ...  \n",
       "881692                 0  281474977605576   8.257154  430.143524  503.403625  \n",
       "881694                 0  281474977605578  40.000000  429.868225  642.952209  \n",
       "881755                 1  281474977605639  40.000000  441.212219  676.669983  \n",
       "881905                 1  281474977605789  40.000000  462.680817  652.329041  \n",
       "881942                 1  281474977605826  40.000000  469.022583  658.760193  \n",
       "\n",
       "[6392 rows x 10 columns]"
      ]
     },
     "execution_count": 70,
     "metadata": {},
     "output_type": "execute_result"
    }
   ],
   "source": [
    "first_chunk_df"
   ]
  },
  {
   "cell_type": "code",
   "execution_count": 71,
   "id": "dcd37b7f-4c2b-4a74-8fd4-201542bfa51b",
   "metadata": {},
   "outputs": [
    {
     "data": {
      "text/plain": [
       "array([[ 44.79042053,  45.90461731,  50.93250275, ..., 354.08953857,\n",
       "        356.8527832 , 363.12747192],\n",
       "       [378.03845215, 381.3364563 , 382.00964355, ..., 191.56343079,\n",
       "        194.67765808, 206.65226746],\n",
       "       [207.83117676, 209.07495117, 210.36459351, ..., 233.95748901,\n",
       "        234.85700989, 237.41049194],\n",
       "       ...,\n",
       "       [  0.        ,   0.        ,   0.        , ...,   0.        ,\n",
       "          0.        ,   0.        ],\n",
       "       [  0.        ,   0.        ,   0.        , ...,   0.        ,\n",
       "          0.        ,   0.        ],\n",
       "       [  0.        ,   0.        ,   0.        , ...,   0.        ,\n",
       "          0.        ,   0.        ]], shape=(471, 684))"
      ]
     },
     "execution_count": 71,
     "metadata": {},
     "output_type": "execute_result"
    }
   ],
   "source": [
    "first_chunk[0, :, :]"
   ]
  },
  {
   "cell_type": "code",
   "execution_count": 75,
   "id": "1ff5af35-cacd-435e-8052-edd7095e5ea0",
   "metadata": {},
   "outputs": [
    {
     "data": {
      "text/plain": [
       "1493970.5"
      ]
     },
     "execution_count": 75,
     "metadata": {},
     "output_type": "execute_result"
    }
   ],
   "source": [
    "float(first_chunk_df[\"norm_x\"].sum())"
   ]
  },
  {
   "cell_type": "code",
   "execution_count": 76,
   "id": "0314e80f-457f-4538-bd27-7fa4065ca2bf",
   "metadata": {},
   "outputs": [
    {
     "data": {
      "text/plain": [
       "1493970.4287548065"
      ]
     },
     "execution_count": 76,
     "metadata": {},
     "output_type": "execute_result"
    }
   ],
   "source": [
    "float(first_chunk[0, :, :].sum())"
   ]
  },
  {
   "cell_type": "code",
   "execution_count": 79,
   "id": "5012ce6a-8638-41b7-b740-ac0828ace091",
   "metadata": {},
   "outputs": [
    {
     "data": {
      "text/plain": [
       "array([[153., 237., 284., ..., 170., 195., 170.],\n",
       "       [311., 106., 170., ..., 126., 111., 111.],\n",
       "       [256., 204.,   1., ..., 206., 183., 119.],\n",
       "       ...,\n",
       "       [  0.,   0.,   0., ...,   0.,   0.,   0.],\n",
       "       [  0.,   0.,   0., ...,   0.,   0.,   0.],\n",
       "       [  0.,   0.,   0., ...,   0.,   0.,   0.]], shape=(471, 684))"
      ]
     },
     "execution_count": 79,
     "metadata": {},
     "output_type": "execute_result"
    }
   ],
   "source": [
    "# Check the feature_index values.\n",
    "first_chunk[2, :, :]"
   ]
  },
  {
   "cell_type": "code",
   "execution_count": null,
   "id": "df0cf491-5c92-4fc2-aca4-064905c980e7",
   "metadata": {},
   "outputs": [],
   "source": []
  }
 ],
 "metadata": {
  "kernelspec": {
   "display_name": "Python 3 (ipykernel)",
   "language": "python",
   "name": "python3"
  },
  "language_info": {
   "codemirror_mode": {
    "name": "ipython",
    "version": 3
   },
   "file_extension": ".py",
   "mimetype": "text/x-python",
   "name": "python",
   "nbconvert_exporter": "python",
   "pygments_lexer": "ipython3",
   "version": "3.12.5"
  }
 },
 "nbformat": 4,
 "nbformat_minor": 5
}
